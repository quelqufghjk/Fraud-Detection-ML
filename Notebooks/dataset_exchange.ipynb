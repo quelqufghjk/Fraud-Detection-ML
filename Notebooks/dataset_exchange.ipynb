{
 "cells": [
  {
   "cell_type": "code",
   "execution_count": 1,
   "id": "2530f20c",
   "metadata": {},
   "outputs": [
    {
     "name": "stdout",
     "output_type": "stream",
     "text": [
      "✅ Dataset de simulation prêt avec mélange des fraudes et non-fraudes.\n"
     ]
    }
   ],
   "source": [
    "import pandas as pd\n",
    "\n",
    "# Charger tout le dataset initial\n",
    "df = pd.read_csv(r\"C:\\Users\\user\\Desktop\\Fraud_detection_project\\data\\transactions.csv\")\n",
    "\n",
    "# Séparer fraudes et non-fraudes\n",
    "fraudes = df[df['isFraud'] == 1]\n",
    "non_fraudes = df[df['isFraud'] == 0].sample(n=80_000, random_state=42)\n",
    "\n",
    "# Concaténer et mélanger\n",
    "df_simulation = pd.concat([fraudes, non_fraudes]).sample(frac=1, random_state=42).reset_index(drop=True)\n",
    "\n",
    "# Sauvegarder\n",
    "df_simulation.to_csv(r\"C:\\Users\\user\\Desktop\\Fraud_detection_project\\data\\simulation_dataset1.csv\", index=False)\n",
    "print(\"✅ Dataset de simulation prêt avec mélange des fraudes et non-fraudes.\")\n"
   ]
  },
  {
   "cell_type": "code",
   "execution_count": null,
   "id": "912b6f1a",
   "metadata": {},
   "outputs": [],
   "source": []
  }
 ],
 "metadata": {
  "kernelspec": {
   "display_name": "venv",
   "language": "python",
   "name": "python3"
  },
  "language_info": {
   "codemirror_mode": {
    "name": "ipython",
    "version": 3
   },
   "file_extension": ".py",
   "mimetype": "text/x-python",
   "name": "python",
   "nbconvert_exporter": "python",
   "pygments_lexer": "ipython3",
   "version": "3.13.3"
  }
 },
 "nbformat": 4,
 "nbformat_minor": 5
}
